{
 "cells": [
  {
   "cell_type": "code",
   "execution_count": 1,
   "id": "fdb61214-aaee-4e05-9821-84044d97933a",
   "metadata": {},
   "outputs": [],
   "source": [
    "# Import Libraries\n",
    "import numpy as np\n",
    "import pandas as pd\n",
    "import matplotlib.pyplot as plt"
   ]
  },
  {
   "cell_type": "code",
   "execution_count": 3,
   "id": "7e9c75d5-5f92-4783-9864-6f9dfb5b85cb",
   "metadata": {},
   "outputs": [],
   "source": [
    "# import the dataset\n",
    "dataset = pd.read_csv('Position_Salaries.csv')\n",
    "X = dataset.iloc[:,1:-1].values\n",
    "y = dataset.iloc[:,-1].values"
   ]
  },
  {
   "cell_type": "code",
   "execution_count": 8,
   "id": "a306c6fd-ce29-40e7-9364-f60ee7b598f7",
   "metadata": {},
   "outputs": [
    {
     "data": {
      "text/plain": [
       "RandomForestRegressor(n_estimators=10, random_state=0)"
      ]
     },
     "execution_count": 8,
     "metadata": {},
     "output_type": "execute_result"
    }
   ],
   "source": [
    "# Train the model on the whole dataset\n",
    "from sklearn.ensemble import RandomForestRegressor\n",
    "regressor = RandomForestRegressor(n_estimators=10, random_state=0)\n",
    "regressor.fit(X,y)"
   ]
  },
  {
   "cell_type": "code",
   "execution_count": 9,
   "id": "00776130-2d21-4b17-8cb5-ee1ae5b68775",
   "metadata": {},
   "outputs": [
    {
     "data": {
      "text/plain": [
       "array([167000.])"
      ]
     },
     "execution_count": 9,
     "metadata": {},
     "output_type": "execute_result"
    }
   ],
   "source": [
    "regressor.predict([[6.5]])"
   ]
  },
  {
   "cell_type": "code",
   "execution_count": 10,
   "id": "5a706caa-161c-471d-b69f-82625e3ca02f",
   "metadata": {},
   "outputs": [
    {
     "data": {
      "image/png": "[encoded data removed]",
      "text/plain": [
       "<Figure size 432x288 with 1 Axes>"
      ]
     },
     "metadata": {
      "needs_background": "light"
     },
     "output_type": "display_data"
    }
   ],
   "source": [
    "# Visualize the result\n",
    "plt.scatter(X, y, color='red')\n",
    "plt.plot(X, regressor.predict(X), color='blue')\n",
    "plt.title('Random Forest Regressor')\n",
    "plt.xlabel('Position')\n",
    "plt.ylabel('Salaries')\n",
    "plt.show()"
   ]
  }
 ],
 "metadata": {
  "kernelspec": {
   "display_name": "Python 3",
   "language": "python",
   "name": "python3"
  },
  "language_info": {
   "codemirror_mode": {
    "name": "ipython",
    "version": 3
   },
   "file_extension": ".py",
   "mimetype": "text/x-python",
   "name": "python",
   "nbconvert_exporter": "python",
   "pygments_lexer": "ipython3",
   "version": "3.8.8"
  }
 },
 "nbformat": 4,
 "nbformat_minor": 5
}
